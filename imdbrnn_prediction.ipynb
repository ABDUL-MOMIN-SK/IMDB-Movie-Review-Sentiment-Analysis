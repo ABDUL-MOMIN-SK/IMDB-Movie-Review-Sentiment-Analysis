{
 "cells": [
  {
   "cell_type": "code",
   "execution_count": 2,
   "metadata": {},
   "outputs": [],
   "source": [
    "import numpy as np\n",
    "import tensorflow as tf\n",
    "from tensorflow.keras.datasets import imdb\n",
    "from tensorflow.keras.preprocessing import sequence\n",
    "from tensorflow.keras.models import load_model"
   ]
  },
  {
   "cell_type": "code",
   "execution_count": 3,
   "metadata": {},
   "outputs": [],
   "source": [
    "## Load the IMDB dataset word index\n",
    "word_index = imdb.get_word_index()\n",
    "reverse_word_index = {value: key for key, value in word_index.items()}"
   ]
  },
  {
   "cell_type": "code",
   "execution_count": 4,
   "metadata": {},
   "outputs": [
    {
     "name": "stderr",
     "output_type": "stream",
     "text": [
      "WARNING:absl:Compiled the loaded model, but the compiled metrics have yet to be built. `model.compile_metrics` will be empty until you train or evaluate the model.\n"
     ]
    },
    {
     "data": {
      "text/html": [
       "<pre style=\"white-space:pre;overflow-x:auto;line-height:normal;font-family:Menlo,'DejaVu Sans Mono',consolas,'Courier New',monospace\"><span style=\"font-weight: bold\">Model: \"sequential_5\"</span>\n",
       "</pre>\n"
      ],
      "text/plain": [
       "\u001b[1mModel: \"sequential_5\"\u001b[0m\n"
      ]
     },
     "metadata": {},
     "output_type": "display_data"
    },
    {
     "data": {
      "text/html": [
       "<pre style=\"white-space:pre;overflow-x:auto;line-height:normal;font-family:Menlo,'DejaVu Sans Mono',consolas,'Courier New',monospace\">┏━━━━━━━━━━━━━━━━━━━━━━━━━━━━━━━━━┳━━━━━━━━━━━━━━━━━━━━━━━━┳━━━━━━━━━━━━━━━┓\n",
       "┃<span style=\"font-weight: bold\"> Layer (type)                    </span>┃<span style=\"font-weight: bold\"> Output Shape           </span>┃<span style=\"font-weight: bold\">       Param # </span>┃\n",
       "┡━━━━━━━━━━━━━━━━━━━━━━━━━━━━━━━━━╇━━━━━━━━━━━━━━━━━━━━━━━━╇━━━━━━━━━━━━━━━┩\n",
       "│ embedding_4 (<span style=\"color: #0087ff; text-decoration-color: #0087ff\">Embedding</span>)         │ (<span style=\"color: #00d7ff; text-decoration-color: #00d7ff\">None</span>, <span style=\"color: #00af00; text-decoration-color: #00af00\">500</span>, <span style=\"color: #00af00; text-decoration-color: #00af00\">128</span>)       │     <span style=\"color: #00af00; text-decoration-color: #00af00\">1,280,000</span> │\n",
       "├─────────────────────────────────┼────────────────────────┼───────────────┤\n",
       "│ simple_rnn_3 (<span style=\"color: #0087ff; text-decoration-color: #0087ff\">SimpleRNN</span>)        │ (<span style=\"color: #00d7ff; text-decoration-color: #00d7ff\">None</span>, <span style=\"color: #00af00; text-decoration-color: #00af00\">128</span>)            │        <span style=\"color: #00af00; text-decoration-color: #00af00\">32,896</span> │\n",
       "├─────────────────────────────────┼────────────────────────┼───────────────┤\n",
       "│ dense_2 (<span style=\"color: #0087ff; text-decoration-color: #0087ff\">Dense</span>)                 │ (<span style=\"color: #00d7ff; text-decoration-color: #00d7ff\">None</span>, <span style=\"color: #00af00; text-decoration-color: #00af00\">1</span>)              │           <span style=\"color: #00af00; text-decoration-color: #00af00\">129</span> │\n",
       "└─────────────────────────────────┴────────────────────────┴───────────────┘\n",
       "</pre>\n"
      ],
      "text/plain": [
       "┏━━━━━━━━━━━━━━━━━━━━━━━━━━━━━━━━━┳━━━━━━━━━━━━━━━━━━━━━━━━┳━━━━━━━━━━━━━━━┓\n",
       "┃\u001b[1m \u001b[0m\u001b[1mLayer (type)                   \u001b[0m\u001b[1m \u001b[0m┃\u001b[1m \u001b[0m\u001b[1mOutput Shape          \u001b[0m\u001b[1m \u001b[0m┃\u001b[1m \u001b[0m\u001b[1m      Param #\u001b[0m\u001b[1m \u001b[0m┃\n",
       "┡━━━━━━━━━━━━━━━━━━━━━━━━━━━━━━━━━╇━━━━━━━━━━━━━━━━━━━━━━━━╇━━━━━━━━━━━━━━━┩\n",
       "│ embedding_4 (\u001b[38;5;33mEmbedding\u001b[0m)         │ (\u001b[38;5;45mNone\u001b[0m, \u001b[38;5;34m500\u001b[0m, \u001b[38;5;34m128\u001b[0m)       │     \u001b[38;5;34m1,280,000\u001b[0m │\n",
       "├─────────────────────────────────┼────────────────────────┼───────────────┤\n",
       "│ simple_rnn_3 (\u001b[38;5;33mSimpleRNN\u001b[0m)        │ (\u001b[38;5;45mNone\u001b[0m, \u001b[38;5;34m128\u001b[0m)            │        \u001b[38;5;34m32,896\u001b[0m │\n",
       "├─────────────────────────────────┼────────────────────────┼───────────────┤\n",
       "│ dense_2 (\u001b[38;5;33mDense\u001b[0m)                 │ (\u001b[38;5;45mNone\u001b[0m, \u001b[38;5;34m1\u001b[0m)              │           \u001b[38;5;34m129\u001b[0m │\n",
       "└─────────────────────────────────┴────────────────────────┴───────────────┘\n"
      ]
     },
     "metadata": {},
     "output_type": "display_data"
    },
    {
     "data": {
      "text/html": [
       "<pre style=\"white-space:pre;overflow-x:auto;line-height:normal;font-family:Menlo,'DejaVu Sans Mono',consolas,'Courier New',monospace\"><span style=\"font-weight: bold\"> Total params: </span><span style=\"color: #00af00; text-decoration-color: #00af00\">1,313,027</span> (5.01 MB)\n",
       "</pre>\n"
      ],
      "text/plain": [
       "\u001b[1m Total params: \u001b[0m\u001b[38;5;34m1,313,027\u001b[0m (5.01 MB)\n"
      ]
     },
     "metadata": {},
     "output_type": "display_data"
    },
    {
     "data": {
      "text/html": [
       "<pre style=\"white-space:pre;overflow-x:auto;line-height:normal;font-family:Menlo,'DejaVu Sans Mono',consolas,'Courier New',monospace\"><span style=\"font-weight: bold\"> Trainable params: </span><span style=\"color: #00af00; text-decoration-color: #00af00\">1,313,025</span> (5.01 MB)\n",
       "</pre>\n"
      ],
      "text/plain": [
       "\u001b[1m Trainable params: \u001b[0m\u001b[38;5;34m1,313,025\u001b[0m (5.01 MB)\n"
      ]
     },
     "metadata": {},
     "output_type": "display_data"
    },
    {
     "data": {
      "text/html": [
       "<pre style=\"white-space:pre;overflow-x:auto;line-height:normal;font-family:Menlo,'DejaVu Sans Mono',consolas,'Courier New',monospace\"><span style=\"font-weight: bold\"> Non-trainable params: </span><span style=\"color: #00af00; text-decoration-color: #00af00\">0</span> (0.00 B)\n",
       "</pre>\n"
      ],
      "text/plain": [
       "\u001b[1m Non-trainable params: \u001b[0m\u001b[38;5;34m0\u001b[0m (0.00 B)\n"
      ]
     },
     "metadata": {},
     "output_type": "display_data"
    },
    {
     "data": {
      "text/html": [
       "<pre style=\"white-space:pre;overflow-x:auto;line-height:normal;font-family:Menlo,'DejaVu Sans Mono',consolas,'Courier New',monospace\"><span style=\"font-weight: bold\"> Optimizer params: </span><span style=\"color: #00af00; text-decoration-color: #00af00\">2</span> (12.00 B)\n",
       "</pre>\n"
      ],
      "text/plain": [
       "\u001b[1m Optimizer params: \u001b[0m\u001b[38;5;34m2\u001b[0m (12.00 B)\n"
      ]
     },
     "metadata": {},
     "output_type": "display_data"
    }
   ],
   "source": [
    "## Load the pre-trained model with ReLU activation\n",
    "model = load_model('imdb_model.h5')\n",
    "model.summary()"
   ]
  },
  {
   "cell_type": "code",
   "execution_count": 5,
   "metadata": {},
   "outputs": [
    {
     "data": {
      "text/plain": [
       "[array([[-0.6064493 ,  0.09172305, -0.09781525, ...,  0.1375873 ,\n",
       "          0.54631436, -0.30004877],\n",
       "        [-0.05783859, -0.01916443,  0.05929063, ...,  0.04006609,\n",
       "          0.03844242,  0.04123095],\n",
       "        [-0.16631496, -0.0240085 , -0.16164899, ...,  0.19915304,\n",
       "         -0.07964587, -0.17079745],\n",
       "        ...,\n",
       "        [ 0.0063188 ,  0.01491797,  0.00159556, ...,  0.04302521,\n",
       "          0.02340622, -0.09263317],\n",
       "        [ 0.00793002, -0.09556483,  0.04563575, ..., -0.05521055,\n",
       "          0.11011187,  0.03827785],\n",
       "        [-0.04438033,  0.08545311, -0.11512226, ...,  0.12843655,\n",
       "         -0.08289003, -0.12315534]], dtype=float32),\n",
       " array([[ 0.02657125,  0.15380226,  0.10063674, ..., -0.11523974,\n",
       "         -0.02935489, -0.13996994],\n",
       "        [ 0.12208844,  0.13010047, -0.04500073, ..., -0.05056446,\n",
       "         -0.09186985, -0.14375038],\n",
       "        [ 0.16834423,  0.12868594,  0.11104652, ...,  0.05062282,\n",
       "          0.08054755,  0.05858918],\n",
       "        ...,\n",
       "        [ 0.10451762,  0.10254639, -0.04796236, ...,  0.04104604,\n",
       "         -0.16542092,  0.04473929],\n",
       "        [ 0.10840157,  0.05514484,  0.00132708, ..., -0.17283385,\n",
       "          0.03685223, -0.06352662],\n",
       "        [-0.09455478,  0.2500197 , -0.05536538, ...,  0.12427443,\n",
       "          0.20781356, -0.08426258]], dtype=float32),\n",
       " array([[ 0.004422  , -0.08260523,  0.00087078, ...,  0.03737444,\n",
       "         -0.02253679,  0.09038034],\n",
       "        [ 0.09115693, -0.04841572, -0.15680705, ...,  0.07354797,\n",
       "          0.01683248, -0.00324716],\n",
       "        [ 0.21987247,  0.10346375, -0.02847871, ...,  0.08441266,\n",
       "         -0.04415422,  0.01996003],\n",
       "        ...,\n",
       "        [ 0.16929896, -0.105864  ,  0.0212486 , ...,  0.02608402,\n",
       "         -0.02320312,  0.12130486],\n",
       "        [ 0.05579268, -0.24667998, -0.00708813, ..., -0.17126665,\n",
       "          0.14557286, -0.08130374],\n",
       "        [ 0.0874966 , -0.01875304, -0.01129176, ...,  0.11288568,\n",
       "         -0.01225534, -0.09427809]], dtype=float32),\n",
       " array([-0.01815515,  0.02609977, -0.04002678, -0.02493978, -0.03738478,\n",
       "        -0.05853034,  0.01131791, -0.03418102, -0.05455318,  0.02355883,\n",
       "        -0.0620608 , -0.03697535, -0.0757935 ,  0.09460825,  0.01870264,\n",
       "         0.04390818, -0.03561271, -0.03680485,  0.04455197, -0.02872352,\n",
       "        -0.05357579, -0.02191811, -0.00041935,  0.02003899,  0.00499871,\n",
       "         0.06055842,  0.01849872, -0.04652357, -0.00913019,  0.00761953,\n",
       "         0.00817086, -0.06306615, -0.09024756, -0.06877884, -0.02873424,\n",
       "         0.01751194, -0.04319526, -0.01800263, -0.04426675, -0.0643276 ,\n",
       "        -0.0752634 ,  0.01338119, -0.04208306, -0.05022041, -0.02480352,\n",
       "        -0.01949543,  0.06139083,  0.01343211, -0.02301751,  0.04615047,\n",
       "        -0.06928611,  0.02375338,  0.05447695, -0.02645147, -0.07705053,\n",
       "        -0.01313422, -0.01085608,  0.07244499, -0.03742011, -0.01380068,\n",
       "         0.03273839, -0.07586391,  0.02734725, -0.07432846, -0.06113981,\n",
       "         0.01548511,  0.01069492,  0.00755257, -0.09507058,  0.02740044,\n",
       "        -0.04161858, -0.03432979, -0.03177912, -0.00181177, -0.04320535,\n",
       "        -0.05427849,  0.00489776, -0.03558511, -0.04644886,  0.02820371,\n",
       "        -0.02348118,  0.01313555,  0.07079855, -0.08773436,  0.01977406,\n",
       "        -0.02707742,  0.0675969 , -0.01755506, -0.05009269,  0.02932823,\n",
       "         0.01542603,  0.10350733, -0.06504221, -0.06110872, -0.03908388,\n",
       "        -0.02867736,  0.02109228, -0.05750445, -0.02352766, -0.0526672 ,\n",
       "        -0.00010862,  0.00132965, -0.00454212, -0.01422551, -0.08066713,\n",
       "         0.02982493,  0.00527761, -0.03773425, -0.03108449,  0.00615073,\n",
       "         0.01135532,  0.03083042, -0.01355564,  0.00674385, -0.01668866,\n",
       "         0.06997444, -0.01930115, -0.0356755 ,  0.01735086, -0.0307462 ,\n",
       "         0.01606149,  0.0567272 ,  0.01712384, -0.02179183,  0.02186286,\n",
       "        -0.06409388,  0.05253391, -0.05776852], dtype=float32),\n",
       " array([[-1.88192829e-01],\n",
       "        [-2.94627190e-01],\n",
       "        [ 1.28137795e-02],\n",
       "        [ 2.36225519e-02],\n",
       "        [ 3.29747349e-02],\n",
       "        [-9.75594446e-02],\n",
       "        [-1.82058625e-02],\n",
       "        [ 3.45391154e-01],\n",
       "        [-1.61523327e-01],\n",
       "        [-1.93391144e-01],\n",
       "        [-1.09165572e-01],\n",
       "        [ 2.41474831e-04],\n",
       "        [ 1.21420957e-01],\n",
       "        [-3.30955610e-02],\n",
       "        [-1.47484973e-01],\n",
       "        [-5.45415282e-02],\n",
       "        [-3.80731106e-01],\n",
       "        [-6.23464957e-02],\n",
       "        [-2.61362381e-02],\n",
       "        [ 4.70417663e-02],\n",
       "        [ 1.82305008e-01],\n",
       "        [-1.63473502e-01],\n",
       "        [ 8.57760981e-02],\n",
       "        [-9.55559127e-03],\n",
       "        [-1.30909055e-01],\n",
       "        [-3.57981026e-02],\n",
       "        [-6.96204007e-02],\n",
       "        [ 1.04278930e-01],\n",
       "        [ 3.00395012e-01],\n",
       "        [ 1.52989432e-01],\n",
       "        [ 1.52652577e-01],\n",
       "        [ 6.88876957e-02],\n",
       "        [-1.75534144e-01],\n",
       "        [-1.57820538e-01],\n",
       "        [-1.30459487e-01],\n",
       "        [-1.57004118e-01],\n",
       "        [-1.14191540e-01],\n",
       "        [ 1.81152508e-01],\n",
       "        [-1.34330109e-01],\n",
       "        [ 7.23168701e-02],\n",
       "        [ 5.32771535e-02],\n",
       "        [ 1.45580649e-01],\n",
       "        [ 1.37783244e-01],\n",
       "        [-8.78103077e-02],\n",
       "        [-4.82297093e-02],\n",
       "        [-2.81810462e-01],\n",
       "        [-1.47756413e-01],\n",
       "        [ 3.33549857e-01],\n",
       "        [ 9.64171067e-02],\n",
       "        [-2.48747021e-02],\n",
       "        [-1.98846653e-01],\n",
       "        [-1.64651603e-01],\n",
       "        [ 5.05618677e-02],\n",
       "        [-2.41704553e-01],\n",
       "        [-3.19313705e-01],\n",
       "        [-2.25452483e-01],\n",
       "        [ 5.94882891e-02],\n",
       "        [-3.60771455e-02],\n",
       "        [ 1.24918453e-01],\n",
       "        [ 2.31792435e-01],\n",
       "        [-1.42063200e-01],\n",
       "        [-2.30314676e-02],\n",
       "        [-2.63283290e-02],\n",
       "        [-5.33894859e-02],\n",
       "        [-2.38624200e-01],\n",
       "        [ 9.09502208e-02],\n",
       "        [-6.18147291e-02],\n",
       "        [-1.51999975e-02],\n",
       "        [-1.77783147e-01],\n",
       "        [-4.51629430e-01],\n",
       "        [-1.63587391e-01],\n",
       "        [-7.31877238e-02],\n",
       "        [-1.90088749e-01],\n",
       "        [-3.32381646e-03],\n",
       "        [-8.41269493e-02],\n",
       "        [-9.63419601e-02],\n",
       "        [-1.47127628e-01],\n",
       "        [ 4.00262699e-02],\n",
       "        [-6.69766264e-03],\n",
       "        [-5.49900234e-01],\n",
       "        [ 5.53851835e-02],\n",
       "        [-4.00158130e-02],\n",
       "        [-2.34162301e-01],\n",
       "        [ 1.25870094e-01],\n",
       "        [ 1.65504232e-01],\n",
       "        [-7.64664486e-02],\n",
       "        [-1.23262823e-01],\n",
       "        [-1.36449844e-01],\n",
       "        [ 1.95400603e-02],\n",
       "        [-4.36783023e-02],\n",
       "        [ 2.41203606e-02],\n",
       "        [ 1.12823278e-01],\n",
       "        [-9.58759561e-02],\n",
       "        [ 2.47635961e-01],\n",
       "        [ 1.35721443e-02],\n",
       "        [-1.13403827e-01],\n",
       "        [-5.62026799e-02],\n",
       "        [ 1.20691143e-01],\n",
       "        [ 2.36266926e-01],\n",
       "        [ 1.24745466e-01],\n",
       "        [-2.76286453e-01],\n",
       "        [-1.60537720e-01],\n",
       "        [-1.15524083e-01],\n",
       "        [ 1.68155909e-01],\n",
       "        [-3.09969068e-01],\n",
       "        [-1.73453480e-01],\n",
       "        [-1.97087616e-01],\n",
       "        [-3.50152189e-03],\n",
       "        [-3.43868196e-01],\n",
       "        [-1.90248132e-01],\n",
       "        [-1.16966523e-01],\n",
       "        [-2.50668041e-02],\n",
       "        [ 5.45166247e-02],\n",
       "        [ 4.01910283e-02],\n",
       "        [ 7.20257461e-02],\n",
       "        [-3.09505343e-01],\n",
       "        [-2.03763723e-01],\n",
       "        [-6.82486743e-02],\n",
       "        [ 1.67202652e-01],\n",
       "        [-2.11151421e-01],\n",
       "        [-9.99539271e-02],\n",
       "        [ 1.28844693e-01],\n",
       "        [-6.70784339e-02],\n",
       "        [-3.64603251e-02],\n",
       "        [ 7.94005319e-02],\n",
       "        [-3.54943909e-02],\n",
       "        [ 3.54425535e-02],\n",
       "        [-2.88336016e-02]], dtype=float32),\n",
       " array([-1.0064133], dtype=float32)]"
      ]
     },
     "execution_count": 5,
     "metadata": {},
     "output_type": "execute_result"
    }
   ],
   "source": [
    "model.get_weights()"
   ]
  },
  {
   "cell_type": "code",
   "execution_count": 6,
   "metadata": {},
   "outputs": [],
   "source": [
    "def decode_review(encoded_review):\n",
    "    return ' '.join([reverse_word_index.get(i -3, '?') for i in decode_review])\n",
    "\n",
    "def preprocess_text(text):\n",
    "    words = text.lower().split()\n",
    "    encoded_review = [word_index.get(word, 2) + 3 for word in words]\n",
    "    padded_review = sequence.pad_sequences([encoded_review], maxlen=500)\n",
    "    return padded_review"
   ]
  },
  {
   "cell_type": "code",
   "execution_count": 7,
   "metadata": {},
   "outputs": [],
   "source": [
    "## Prediction Function\n",
    "\n",
    "def predict_sentiment(review):\n",
    "    preprocessed_text = preprocess_text(review)\n",
    "    prediction = model.predict(preprocessed_text)\n",
    "    sentiment = 'Positive' if prediction[0][0] > 0.5 else 'Negative'\n",
    "    return sentiment, prediction[0][0]"
   ]
  },
  {
   "cell_type": "code",
   "execution_count": 15,
   "metadata": {},
   "outputs": [
    {
     "name": "stdout",
     "output_type": "stream",
     "text": [
      "\u001b[1m1/1\u001b[0m \u001b[32m━━━━━━━━━━━━━━━━━━━━\u001b[0m\u001b[37m\u001b[0m \u001b[1m0s\u001b[0m 44ms/step\n",
      "Review: This movie was fantastic, must watch! The acting was great and the plot was thrilling. Must watch\n",
      "Sentiment: Positive\n",
      "Prediction Score: 0.7622032165527344\n"
     ]
    }
   ],
   "source": [
    "example_review = \"This movie was fantastic, must watch! The acting was great and the plot was thrilling. Must watch\"\n",
    "\n",
    "##example_review = \"This movie was not okay! One time watch. Good to watch if no other movie is on the theater. Not recommended\"\n",
    "\n",
    "sentiment, score = predict_sentiment(example_review)\n",
    "\n",
    "print(f'Review: {example_review}')\n",
    "print(f'Sentiment: {sentiment}')\n",
    "print(f'Prediction Score: {score}')"
   ]
  }
 ],
 "metadata": {
  "kernelspec": {
   "display_name": "myenv",
   "language": "python",
   "name": "python3"
  },
  "language_info": {
   "codemirror_mode": {
    "name": "ipython",
    "version": 3
   },
   "file_extension": ".py",
   "mimetype": "text/x-python",
   "name": "python",
   "nbconvert_exporter": "python",
   "pygments_lexer": "ipython3",
   "version": "3.12.1"
  }
 },
 "nbformat": 4,
 "nbformat_minor": 2
}
